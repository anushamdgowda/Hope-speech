{
  "nbformat": 4,
  "nbformat_minor": 0,
  "metadata": {
    "colab": {
      "name": "hope_speech.ipynb",
      "provenance": [],
      "collapsed_sections": []
    },
    "kernelspec": {
      "name": "python3",
      "display_name": "Python 3"
    },
    "language_info": {
      "name": "python"
    },
    "accelerator": "GPU"
  },
  "cells": [
    {
      "cell_type": "code",
      "source": [
        "from google.colab import drive\n",
        "drive.mount('/content/drive')"
      ],
      "metadata": {
        "colab": {
          "base_uri": "https://localhost:8080/"
        },
        "id": "s_3d4_i8z7GJ",
        "outputId": "dc37cebb-595e-4b18-e8c3-48cfaa788764"
      },
      "execution_count": null,
      "outputs": [
        {
          "output_type": "stream",
          "name": "stdout",
          "text": [
            "Mounted at /content/drive\n"
          ]
        }
      ]
    },
    {
      "cell_type": "code",
      "source": [
        "# import pandas as pd\n",
        "# en_data=pd.read_csv(\"/content/drive/MyDrive/Hope_ENG_test.csv\", sep='\\t')\n",
        "# len(en_data)"
      ],
      "metadata": {
        "colab": {
          "base_uri": "https://localhost:8080/"
        },
        "id": "AdenXD_1iNZn",
        "outputId": "596b36e5-2b23-4c0a-a818-57f353e112f7"
      },
      "execution_count": null,
      "outputs": [
        {
          "output_type": "execute_result",
          "data": {
            "text/plain": [
              "2842"
            ]
          },
          "metadata": {},
          "execution_count": 6
        }
      ]
    },
    {
      "cell_type": "code",
      "source": [
        "# import pandas as pd\n",
        "# ml_data=pd.read_csv(\"/content/drive/MyDrive/Hope_MAL_test.csv\", sep='\\t')\n",
        "# len(ml_data)"
      ],
      "metadata": {
        "colab": {
          "base_uri": "https://localhost:8080/"
        },
        "id": "X5UGXfpGio3o",
        "outputId": "37872fcd-2834-4976-f2df-5ad9459d91d2"
      },
      "execution_count": null,
      "outputs": [
        {
          "output_type": "execute_result",
          "data": {
            "text/plain": [
              "1070"
            ]
          },
          "metadata": {},
          "execution_count": 7
        }
      ]
    },
    {
      "cell_type": "code",
      "source": [
        "# tal_data=pd.read_csv(\"/content/drive/MyDrive/Hope_KAN_test.csv\", sep='\\t')\n",
        "# len(tal_data)"
      ],
      "metadata": {
        "colab": {
          "base_uri": "https://localhost:8080/"
        },
        "id": "FnaILm3nixO7",
        "outputId": "4ccd9cc6-315a-4125-f356-dcb283b97038"
      },
      "execution_count": null,
      "outputs": [
        {
          "output_type": "execute_result",
          "data": {
            "text/plain": [
              "617"
            ]
          },
          "metadata": {},
          "execution_count": 8
        }
      ]
    },
    {
      "cell_type": "code",
      "source": [
        "1002,1070,1760"
      ],
      "metadata": {
        "id": "Ij_rwTKKi-zK"
      },
      "execution_count": null,
      "outputs": []
    },
    {
      "cell_type": "code",
      "execution_count": null,
      "metadata": {
        "colab": {
          "base_uri": "https://localhost:8080/"
        },
        "id": "tZkuMzroLzME",
        "outputId": "5edc182c-0fb5-4abc-a4cb-8099f9a5efa5"
      },
      "outputs": [
        {
          "output_type": "stream",
          "name": "stdout",
          "text": [
            "\u001b[?25hInstalling collected packages: emot\n",
            "Successfully installed emot-3.1\n",
            "Requirement already satisfied: xgboost in /usr/local/lib/python3.7/dist-packages (0.90)\n",
            "Requirement already satisfied: numpy in /usr/local/lib/python3.7/dist-packages (from xgboost) (1.21.5)\n",
            "Requirement already satisfied: scipy in /usr/local/lib/python3.7/dist-packages (from xgboost) (1.4.1)\n",
            "Requirement already satisfied: Textblob in /usr/local/lib/python3.7/dist-packages (0.15.3)\n",
            "Requirement already satisfied: nltk>=3.1 in /usr/local/lib/python3.7/dist-packages (from Textblob) (3.2.5)\n",
            "Requirement already satisfied: six in /usr/local/lib/python3.7/dist-packages (from nltk>=3.1->Textblob) (1.15.0)\n"
          ]
        }
      ],
      "source": [
        "# to convert emojis to text\n",
        "!pip install emot\n",
        "!pip install xgboost\n",
        "!pip install Textblob"
      ]
    },
    {
      "cell_type": "code",
      "source": [
        "import numpy as np \n",
        "import pandas as pd\n",
        "import re\n",
        "import gc\n",
        "import os\n",
        "import fileinput\n",
        "import string\n",
        "import tensorflow as tf\n",
        "import zipfile\n",
        "import datetime\n",
        "import sys\n",
        "from tqdm  import tqdm\n",
        "tqdm.pandas()\n",
        "from nltk.tokenize import wordpunct_tokenize\n",
        "from nltk.corpus import stopwords\n",
        "from nltk.stem.snowball import SnowballStemmer\n",
        "from sklearn.feature_extraction.text import CountVectorizer\n",
        "from sklearn.preprocessing import LabelEncoder\n",
        "from sklearn.metrics import accuracy_score\n",
        "from sklearn.metrics import f1_score, roc_auc_score\n",
        "\n",
        "from keras.preprocessing.text import Tokenizer\n",
        "from keras.preprocessing.sequence import pad_sequences\n",
        "from keras.models import Sequential\n",
        "from keras.layers import Dense, Flatten, LSTM, Conv1D, MaxPooling1D, Dropout, Activation\n",
        "from keras.layers.embeddings import Embedding\n",
        "from sklearn.metrics import classification_report\n",
        "from keras.utils import np_utils\n",
        "from sklearn.model_selection import train_test_split\n",
        "from sklearn.metrics import classification_report, confusion_matrix\n",
        "# import libraries and packages\n",
        "\n",
        "from sklearn.metrics import accuracy_score, confusion_matrix, classification_report, f1_score\n",
        "from sklearn.feature_extraction.text import  CountVectorizer, TfidfTransformer,TfidfVectorizer\n",
        "from sklearn.ensemble import VotingClassifier \n",
        "from xgboost import XGBClassifier\n",
        "from sklearn.ensemble import GradientBoostingClassifier, RandomForestClassifier\n",
        "from sklearn.metrics import precision_recall_fscore_support as score\n",
        "from sklearn.svm import SVC \n",
        "from sklearn.model_selection import GridSearchCV \n",
        "\n",
        "from textblob import TextBlob\n",
        "\n",
        "import nltk.data\n",
        "import numpy as np \n",
        "import pandas as pd\n",
        "import re\n",
        "import time\n",
        "import string\n",
        "\n",
        "pd.set_option(\"max_colwidth\" ,220)\n",
        "wn = nltk.WordNetLemmatizer()\n",
        "nltk.download('wordnet')\n",
        "nltk.download('stopwords')\n",
        "stopwords = nltk.corpus.stopwords.words('english')"
      ],
      "metadata": {
        "id": "4coB-XzfLz-H",
        "colab": {
          "base_uri": "https://localhost:8080/"
        },
        "outputId": "6c90737a-00be-4e76-ee7e-62dc8705678e"
      },
      "execution_count": 4,
      "outputs": [
        {
          "output_type": "stream",
          "name": "stdout",
          "text": [
            "[nltk_data] Downloading package wordnet to /root/nltk_data...\n",
            "[nltk_data]   Unzipping corpora/wordnet.zip.\n",
            "[nltk_data] Downloading package stopwords to /root/nltk_data...\n",
            "[nltk_data]   Unzipping corpora/stopwords.zip.\n"
          ]
        }
      ]
    },
    {
      "cell_type": "code",
      "source": [
        "!pip install emoji\n",
        "\n",
        "import emoji\n",
        "\n",
        "def remove_emoji(text):\n",
        "    return emoji.get_emoji_regexp().sub(u'', text)"
      ],
      "metadata": {
        "colab": {
          "base_uri": "https://localhost:8080/"
        },
        "id": "jYlcsRysMApa",
        "outputId": "e88e8fee-d244-4af6-af81-61dcb2e3259d"
      },
      "execution_count": 2,
      "outputs": [
        {
          "output_type": "stream",
          "name": "stdout",
          "text": [
            "Collecting emoji\n",
            "  Downloading emoji-1.7.0.tar.gz (175 kB)\n",
            "\u001b[?25l\r\u001b[K     |█▉                              | 10 kB 18.7 MB/s eta 0:00:01\r\u001b[K     |███▊                            | 20 kB 11.1 MB/s eta 0:00:01\r\u001b[K     |█████▋                          | 30 kB 9.2 MB/s eta 0:00:01\r\u001b[K     |███████▌                        | 40 kB 8.4 MB/s eta 0:00:01\r\u001b[K     |█████████▍                      | 51 kB 4.5 MB/s eta 0:00:01\r\u001b[K     |███████████▏                    | 61 kB 5.4 MB/s eta 0:00:01\r\u001b[K     |█████████████                   | 71 kB 5.4 MB/s eta 0:00:01\r\u001b[K     |███████████████                 | 81 kB 4.2 MB/s eta 0:00:01\r\u001b[K     |████████████████▉               | 92 kB 4.7 MB/s eta 0:00:01\r\u001b[K     |██████████████████▊             | 102 kB 5.1 MB/s eta 0:00:01\r\u001b[K     |████████████████████▌           | 112 kB 5.1 MB/s eta 0:00:01\r\u001b[K     |██████████████████████▍         | 122 kB 5.1 MB/s eta 0:00:01\r\u001b[K     |████████████████████████▎       | 133 kB 5.1 MB/s eta 0:00:01\r\u001b[K     |██████████████████████████▏     | 143 kB 5.1 MB/s eta 0:00:01\r\u001b[K     |████████████████████████████    | 153 kB 5.1 MB/s eta 0:00:01\r\u001b[K     |█████████████████████████████▉  | 163 kB 5.1 MB/s eta 0:00:01\r\u001b[K     |███████████████████████████████▊| 174 kB 5.1 MB/s eta 0:00:01\r\u001b[K     |████████████████████████████████| 175 kB 5.1 MB/s \n",
            "\u001b[?25hBuilding wheels for collected packages: emoji\n",
            "  Building wheel for emoji (setup.py) ... \u001b[?25l\u001b[?25hdone\n",
            "  Created wheel for emoji: filename=emoji-1.7.0-py3-none-any.whl size=171046 sha256=5cfc3c1b792e48a93fb5c8061d0bf4967d39ff9cf547bbff8cfd7857a290c570\n",
            "  Stored in directory: /root/.cache/pip/wheels/8a/4e/b6/57b01db010d17ef6ea9b40300af725ef3e210cb1acfb7ac8b6\n",
            "Successfully built emoji\n",
            "Installing collected packages: emoji\n",
            "Successfully installed emoji-1.7.0\n"
          ]
        }
      ]
    },
    {
      "cell_type": "code",
      "source": [
        "data= pd.read_csv(\"/content/drive/MyDrive/Hope_ENG_train.csv\",header=None)\n",
        "data.columns =['text','label']\n",
        "data.head()\n"
      ],
      "metadata": {
        "id": "if6m1xe_B8Dj",
        "colab": {
          "base_uri": "https://localhost:8080/",
          "height": 206
        },
        "outputId": "fa1aef0a-7c3d-431a-ab69-e69bbb0640db"
      },
      "execution_count": 3,
      "outputs": [
        {
          "output_type": "execute_result",
          "data": {
            "text/plain": [
              "                                                text            label\n",
              "0  these tiktoks radiate gay chaotic energy and i...  Non_hope_speech\n",
              "1  @Champions Again He got killed for using false...  Non_hope_speech\n",
              "2               It's not that all lives don't matter  Non_hope_speech\n",
              "3  Is it really that difficult to understand? Bla...  Non_hope_speech\n",
              "4  Whenever we say black isn't that racists?  Why...  Non_hope_speech"
            ],
            "text/html": [
              "\n",
              "  <div id=\"df-c485c760-c12c-413e-82b3-b29807415391\">\n",
              "    <div class=\"colab-df-container\">\n",
              "      <div>\n",
              "<style scoped>\n",
              "    .dataframe tbody tr th:only-of-type {\n",
              "        vertical-align: middle;\n",
              "    }\n",
              "\n",
              "    .dataframe tbody tr th {\n",
              "        vertical-align: top;\n",
              "    }\n",
              "\n",
              "    .dataframe thead th {\n",
              "        text-align: right;\n",
              "    }\n",
              "</style>\n",
              "<table border=\"1\" class=\"dataframe\">\n",
              "  <thead>\n",
              "    <tr style=\"text-align: right;\">\n",
              "      <th></th>\n",
              "      <th>text</th>\n",
              "      <th>label</th>\n",
              "    </tr>\n",
              "  </thead>\n",
              "  <tbody>\n",
              "    <tr>\n",
              "      <th>0</th>\n",
              "      <td>these tiktoks radiate gay chaotic energy and i...</td>\n",
              "      <td>Non_hope_speech</td>\n",
              "    </tr>\n",
              "    <tr>\n",
              "      <th>1</th>\n",
              "      <td>@Champions Again He got killed for using false...</td>\n",
              "      <td>Non_hope_speech</td>\n",
              "    </tr>\n",
              "    <tr>\n",
              "      <th>2</th>\n",
              "      <td>It's not that all lives don't matter</td>\n",
              "      <td>Non_hope_speech</td>\n",
              "    </tr>\n",
              "    <tr>\n",
              "      <th>3</th>\n",
              "      <td>Is it really that difficult to understand? Bla...</td>\n",
              "      <td>Non_hope_speech</td>\n",
              "    </tr>\n",
              "    <tr>\n",
              "      <th>4</th>\n",
              "      <td>Whenever we say black isn't that racists?  Why...</td>\n",
              "      <td>Non_hope_speech</td>\n",
              "    </tr>\n",
              "  </tbody>\n",
              "</table>\n",
              "</div>\n",
              "      <button class=\"colab-df-convert\" onclick=\"convertToInteractive('df-c485c760-c12c-413e-82b3-b29807415391')\"\n",
              "              title=\"Convert this dataframe to an interactive table.\"\n",
              "              style=\"display:none;\">\n",
              "        \n",
              "  <svg xmlns=\"http://www.w3.org/2000/svg\" height=\"24px\"viewBox=\"0 0 24 24\"\n",
              "       width=\"24px\">\n",
              "    <path d=\"M0 0h24v24H0V0z\" fill=\"none\"/>\n",
              "    <path d=\"M18.56 5.44l.94 2.06.94-2.06 2.06-.94-2.06-.94-.94-2.06-.94 2.06-2.06.94zm-11 1L8.5 8.5l.94-2.06 2.06-.94-2.06-.94L8.5 2.5l-.94 2.06-2.06.94zm10 10l.94 2.06.94-2.06 2.06-.94-2.06-.94-.94-2.06-.94 2.06-2.06.94z\"/><path d=\"M17.41 7.96l-1.37-1.37c-.4-.4-.92-.59-1.43-.59-.52 0-1.04.2-1.43.59L10.3 9.45l-7.72 7.72c-.78.78-.78 2.05 0 2.83L4 21.41c.39.39.9.59 1.41.59.51 0 1.02-.2 1.41-.59l7.78-7.78 2.81-2.81c.8-.78.8-2.07 0-2.86zM5.41 20L4 18.59l7.72-7.72 1.47 1.35L5.41 20z\"/>\n",
              "  </svg>\n",
              "      </button>\n",
              "      \n",
              "  <style>\n",
              "    .colab-df-container {\n",
              "      display:flex;\n",
              "      flex-wrap:wrap;\n",
              "      gap: 12px;\n",
              "    }\n",
              "\n",
              "    .colab-df-convert {\n",
              "      background-color: #E8F0FE;\n",
              "      border: none;\n",
              "      border-radius: 50%;\n",
              "      cursor: pointer;\n",
              "      display: none;\n",
              "      fill: #1967D2;\n",
              "      height: 32px;\n",
              "      padding: 0 0 0 0;\n",
              "      width: 32px;\n",
              "    }\n",
              "\n",
              "    .colab-df-convert:hover {\n",
              "      background-color: #E2EBFA;\n",
              "      box-shadow: 0px 1px 2px rgba(60, 64, 67, 0.3), 0px 1px 3px 1px rgba(60, 64, 67, 0.15);\n",
              "      fill: #174EA6;\n",
              "    }\n",
              "\n",
              "    [theme=dark] .colab-df-convert {\n",
              "      background-color: #3B4455;\n",
              "      fill: #D2E3FC;\n",
              "    }\n",
              "\n",
              "    [theme=dark] .colab-df-convert:hover {\n",
              "      background-color: #434B5C;\n",
              "      box-shadow: 0px 1px 3px 1px rgba(0, 0, 0, 0.15);\n",
              "      filter: drop-shadow(0px 1px 2px rgba(0, 0, 0, 0.3));\n",
              "      fill: #FFFFFF;\n",
              "    }\n",
              "  </style>\n",
              "\n",
              "      <script>\n",
              "        const buttonEl =\n",
              "          document.querySelector('#df-c485c760-c12c-413e-82b3-b29807415391 button.colab-df-convert');\n",
              "        buttonEl.style.display =\n",
              "          google.colab.kernel.accessAllowed ? 'block' : 'none';\n",
              "\n",
              "        async function convertToInteractive(key) {\n",
              "          const element = document.querySelector('#df-c485c760-c12c-413e-82b3-b29807415391');\n",
              "          const dataTable =\n",
              "            await google.colab.kernel.invokeFunction('convertToInteractive',\n",
              "                                                     [key], {});\n",
              "          if (!dataTable) return;\n",
              "\n",
              "          const docLinkHtml = 'Like what you see? Visit the ' +\n",
              "            '<a target=\"_blank\" href=https://colab.research.google.com/notebooks/data_table.ipynb>data table notebook</a>'\n",
              "            + ' to learn more about interactive tables.';\n",
              "          element.innerHTML = '';\n",
              "          dataTable['output_type'] = 'display_data';\n",
              "          await google.colab.output.renderOutput(dataTable, element);\n",
              "          const docLink = document.createElement('div');\n",
              "          docLink.innerHTML = docLinkHtml;\n",
              "          element.appendChild(docLink);\n",
              "        }\n",
              "      </script>\n",
              "    </div>\n",
              "  </div>\n",
              "  "
            ]
          },
          "metadata": {},
          "execution_count": 3
        }
      ]
    },
    {
      "cell_type": "code",
      "source": [
        "len(data)"
      ],
      "metadata": {
        "colab": {
          "base_uri": "https://localhost:8080/"
        },
        "id": "sIO-D5JgEkjV",
        "outputId": "77036ae3-3a38-4546-e47f-1a4fc81b5186"
      },
      "execution_count": null,
      "outputs": [
        {
          "output_type": "execute_result",
          "data": {
            "text/plain": [
              "22740"
            ]
          },
          "metadata": {},
          "execution_count": 22
        }
      ]
    },
    {
      "cell_type": "code",
      "source": [
        "# for i in data['text']:\n",
        "#   print(len(i))"
      ],
      "metadata": {
        "id": "UAOt-6vtDa4P"
      },
      "execution_count": null,
      "outputs": []
    },
    {
      "cell_type": "code",
      "source": [
        "import string\n",
        "import re\n",
        "\n",
        "def clean_text(text):\n",
        "    text = ' '.join([word for word in text.split() if not word.startswith('@')])           #user name with @ is removed\n",
        "    text = re.sub('@[a-zA-Z0-9]*', '', text)\n",
        "    text = \"\".join([word.lower() for word in text if word not in string.punctuation]) \n",
        "    text = \"\".join([word for word in text if not word.isdigit()])\n",
        "    tokens = re.split('\\W+',text)\n",
        "    text = \" \".join(wn.lemmatize(word) for word in tokens if word not in stopwords)\n",
        "    return text\n",
        "\n",
        "\n",
        "\n",
        "data_train= pd.read_csv(\"/content/drive/MyDrive/Hope_ENG_train.csv\",header=None) # fix dataset path\n",
        "data_dev= pd.read_csv(\"/content/drive/MyDrive/Hope_ENG_dev.csv\", header=None)\n",
        "#data_test= pd.read_csv(\"/content/drive/MyDrive/commaaticon_test_data (1)/test_hin.tsv\", sep='\\t')\n",
        "data_train.columns=['Text','label']\n",
        "data_dev.columns=['Text','label']\n",
        "data_train.head()"
      ],
      "metadata": {
        "colab": {
          "base_uri": "https://localhost:8080/",
          "height": 268
        },
        "id": "8Kx9FM0YMCtq",
        "outputId": "bcc1aad1-d3b9-49a1-ba93-ae31a7c79bb7"
      },
      "execution_count": 5,
      "outputs": [
        {
          "output_type": "execute_result",
          "data": {
            "text/plain": [
              "                                                                                                                                                                                                                          Text  \\\n",
              "0                                                                                                                                                                       these tiktoks radiate gay chaotic energy and i love it   \n",
              "1                                                                                                                                                                         @Champions Again He got killed for using false money   \n",
              "2                                                                                                                                                                                         It's not that all lives don't matter   \n",
              "3  Is it really that difficult to understand? Black lives matter and all lives matter are not mutually exclusive. They are both true as general statements. So are white lives matter and asian lives matter. Black lives m...   \n",
              "4                                                                                                                                                     Whenever we say black isn't that racists?  Why don't just say Americans.   \n",
              "\n",
              "             label  \n",
              "0  Non_hope_speech  \n",
              "1  Non_hope_speech  \n",
              "2  Non_hope_speech  \n",
              "3  Non_hope_speech  \n",
              "4  Non_hope_speech  "
            ],
            "text/html": [
              "\n",
              "  <div id=\"df-75d9fdcf-aa5c-4b80-8e5f-a43cd29629a6\">\n",
              "    <div class=\"colab-df-container\">\n",
              "      <div>\n",
              "<style scoped>\n",
              "    .dataframe tbody tr th:only-of-type {\n",
              "        vertical-align: middle;\n",
              "    }\n",
              "\n",
              "    .dataframe tbody tr th {\n",
              "        vertical-align: top;\n",
              "    }\n",
              "\n",
              "    .dataframe thead th {\n",
              "        text-align: right;\n",
              "    }\n",
              "</style>\n",
              "<table border=\"1\" class=\"dataframe\">\n",
              "  <thead>\n",
              "    <tr style=\"text-align: right;\">\n",
              "      <th></th>\n",
              "      <th>Text</th>\n",
              "      <th>label</th>\n",
              "    </tr>\n",
              "  </thead>\n",
              "  <tbody>\n",
              "    <tr>\n",
              "      <th>0</th>\n",
              "      <td>these tiktoks radiate gay chaotic energy and i love it</td>\n",
              "      <td>Non_hope_speech</td>\n",
              "    </tr>\n",
              "    <tr>\n",
              "      <th>1</th>\n",
              "      <td>@Champions Again He got killed for using false money</td>\n",
              "      <td>Non_hope_speech</td>\n",
              "    </tr>\n",
              "    <tr>\n",
              "      <th>2</th>\n",
              "      <td>It's not that all lives don't matter</td>\n",
              "      <td>Non_hope_speech</td>\n",
              "    </tr>\n",
              "    <tr>\n",
              "      <th>3</th>\n",
              "      <td>Is it really that difficult to understand? Black lives matter and all lives matter are not mutually exclusive. They are both true as general statements. So are white lives matter and asian lives matter. Black lives m...</td>\n",
              "      <td>Non_hope_speech</td>\n",
              "    </tr>\n",
              "    <tr>\n",
              "      <th>4</th>\n",
              "      <td>Whenever we say black isn't that racists?  Why don't just say Americans.</td>\n",
              "      <td>Non_hope_speech</td>\n",
              "    </tr>\n",
              "  </tbody>\n",
              "</table>\n",
              "</div>\n",
              "      <button class=\"colab-df-convert\" onclick=\"convertToInteractive('df-75d9fdcf-aa5c-4b80-8e5f-a43cd29629a6')\"\n",
              "              title=\"Convert this dataframe to an interactive table.\"\n",
              "              style=\"display:none;\">\n",
              "        \n",
              "  <svg xmlns=\"http://www.w3.org/2000/svg\" height=\"24px\"viewBox=\"0 0 24 24\"\n",
              "       width=\"24px\">\n",
              "    <path d=\"M0 0h24v24H0V0z\" fill=\"none\"/>\n",
              "    <path d=\"M18.56 5.44l.94 2.06.94-2.06 2.06-.94-2.06-.94-.94-2.06-.94 2.06-2.06.94zm-11 1L8.5 8.5l.94-2.06 2.06-.94-2.06-.94L8.5 2.5l-.94 2.06-2.06.94zm10 10l.94 2.06.94-2.06 2.06-.94-2.06-.94-.94-2.06-.94 2.06-2.06.94z\"/><path d=\"M17.41 7.96l-1.37-1.37c-.4-.4-.92-.59-1.43-.59-.52 0-1.04.2-1.43.59L10.3 9.45l-7.72 7.72c-.78.78-.78 2.05 0 2.83L4 21.41c.39.39.9.59 1.41.59.51 0 1.02-.2 1.41-.59l7.78-7.78 2.81-2.81c.8-.78.8-2.07 0-2.86zM5.41 20L4 18.59l7.72-7.72 1.47 1.35L5.41 20z\"/>\n",
              "  </svg>\n",
              "      </button>\n",
              "      \n",
              "  <style>\n",
              "    .colab-df-container {\n",
              "      display:flex;\n",
              "      flex-wrap:wrap;\n",
              "      gap: 12px;\n",
              "    }\n",
              "\n",
              "    .colab-df-convert {\n",
              "      background-color: #E8F0FE;\n",
              "      border: none;\n",
              "      border-radius: 50%;\n",
              "      cursor: pointer;\n",
              "      display: none;\n",
              "      fill: #1967D2;\n",
              "      height: 32px;\n",
              "      padding: 0 0 0 0;\n",
              "      width: 32px;\n",
              "    }\n",
              "\n",
              "    .colab-df-convert:hover {\n",
              "      background-color: #E2EBFA;\n",
              "      box-shadow: 0px 1px 2px rgba(60, 64, 67, 0.3), 0px 1px 3px 1px rgba(60, 64, 67, 0.15);\n",
              "      fill: #174EA6;\n",
              "    }\n",
              "\n",
              "    [theme=dark] .colab-df-convert {\n",
              "      background-color: #3B4455;\n",
              "      fill: #D2E3FC;\n",
              "    }\n",
              "\n",
              "    [theme=dark] .colab-df-convert:hover {\n",
              "      background-color: #434B5C;\n",
              "      box-shadow: 0px 1px 3px 1px rgba(0, 0, 0, 0.15);\n",
              "      filter: drop-shadow(0px 1px 2px rgba(0, 0, 0, 0.3));\n",
              "      fill: #FFFFFF;\n",
              "    }\n",
              "  </style>\n",
              "\n",
              "      <script>\n",
              "        const buttonEl =\n",
              "          document.querySelector('#df-75d9fdcf-aa5c-4b80-8e5f-a43cd29629a6 button.colab-df-convert');\n",
              "        buttonEl.style.display =\n",
              "          google.colab.kernel.accessAllowed ? 'block' : 'none';\n",
              "\n",
              "        async function convertToInteractive(key) {\n",
              "          const element = document.querySelector('#df-75d9fdcf-aa5c-4b80-8e5f-a43cd29629a6');\n",
              "          const dataTable =\n",
              "            await google.colab.kernel.invokeFunction('convertToInteractive',\n",
              "                                                     [key], {});\n",
              "          if (!dataTable) return;\n",
              "\n",
              "          const docLinkHtml = 'Like what you see? Visit the ' +\n",
              "            '<a target=\"_blank\" href=https://colab.research.google.com/notebooks/data_table.ipynb>data table notebook</a>'\n",
              "            + ' to learn more about interactive tables.';\n",
              "          element.innerHTML = '';\n",
              "          dataTable['output_type'] = 'display_data';\n",
              "          await google.colab.output.renderOutput(dataTable, element);\n",
              "          const docLink = document.createElement('div');\n",
              "          docLink.innerHTML = docLinkHtml;\n",
              "          element.appendChild(docLink);\n",
              "        }\n",
              "      </script>\n",
              "    </div>\n",
              "  </div>\n",
              "  "
            ]
          },
          "metadata": {},
          "execution_count": 5
        }
      ]
    },
    {
      "cell_type": "code",
      "source": [
        "len(data_dev)"
      ],
      "metadata": {
        "id": "FYwDmuVHevlD",
        "outputId": "a676304c-bb02-4974-ec25-46b955a6c591",
        "colab": {
          "base_uri": "https://localhost:8080/"
        }
      },
      "execution_count": null,
      "outputs": [
        {
          "output_type": "execute_result",
          "data": {
            "text/plain": [
              "389"
            ]
          },
          "metadata": {},
          "execution_count": 10
        }
      ]
    },
    {
      "cell_type": "code",
      "source": [
        "from imblearn.over_sampling import SMOTE\n",
        "# Resampling the minority class. The strategy can be changed as required.\n",
        "sm = SMOTE(sampling_strategy='minority', random_state=42)\n",
        "# Fit the model to generate the data.\n"
      ],
      "metadata": {
        "id": "V22KFY9OSIB_"
      },
      "execution_count": 6,
      "outputs": []
    },
    {
      "cell_type": "code",
      "source": [
        "data_train['label'].value_counts()\n",
        "  "
      ],
      "metadata": {
        "colab": {
          "base_uri": "https://localhost:8080/"
        },
        "id": "_RN9bDwqQn8p",
        "outputId": "f17b0cc7-59e2-45e5-8cce-c8eb15ddeedf"
      },
      "execution_count": 7,
      "outputs": [
        {
          "output_type": "execute_result",
          "data": {
            "text/plain": [
              "Non_hope_speech    20778\n",
              "Hope_speech         1962\n",
              "Name: label, dtype: int64"
            ]
          },
          "metadata": {},
          "execution_count": 7
        }
      ]
    },
    {
      "cell_type": "code",
      "source": [
        "data_dev['label'].value_counts()"
      ],
      "metadata": {
        "colab": {
          "base_uri": "https://localhost:8080/"
        },
        "id": "cvkR1jgo2EyG",
        "outputId": "915f2487-f9cd-410d-fff0-eaa6493853db"
      },
      "execution_count": 8,
      "outputs": [
        {
          "output_type": "execute_result",
          "data": {
            "text/plain": [
              "Non_hope_speech    2569\n",
              "Hope_speech         272\n",
              "Name: label, dtype: int64"
            ]
          },
          "metadata": {},
          "execution_count": 8
        }
      ]
    },
    {
      "cell_type": "code",
      "source": [
        "data_train['clean'] = data_train['Text'].apply(lambda x:clean_text(x))      \n",
        "data_train.head(10)\n",
        "\n",
        "data_dev['clean'] = data_dev['Text'].apply(lambda x:clean_text(x))      \n",
        "data_dev.head(10)"
      ],
      "metadata": {
        "id": "jGHsWaFTMTo_",
        "colab": {
          "base_uri": "https://localhost:8080/",
          "height": 363
        },
        "outputId": "7c36aa26-cf47-4050-849c-60f4128c597d"
      },
      "execution_count": 9,
      "outputs": [
        {
          "output_type": "execute_result",
          "data": {
            "text/plain": [
              "                                                                                            Text  \\\n",
              "0                                                   Thats it.... like....I dont like that statue   \n",
              "1        @Generation X Counting money that she been given for promoting hysterical green agenda.   \n",
              "2                         @Paola Hernandez i never said to be intolerant and hateful........ -_-   \n",
              "3                                      @Firstlast300 Wow An opinion is that I don't like a color   \n",
              "4         WOW!!!!!!!That was so so inspiring and incredible!!! THis speech has just saved my day   \n",
              "5  @FALC0n  Yea sorry I know Asian is an ethnicity not a race... I'm just trying to generalize🤦‍   \n",
              "6                                                                     Blm nooooooonnAsian racism   \n",
              "7         What is making you think they are trying to make black lives matter more. I’m confused   \n",
              "8                             I dont agree with homosexualitynFirst of all you are homosexuality   \n",
              "9                                                  @corinthia Long sorry not to fight about this   \n",
              "\n",
              "             label                                                      clean  \n",
              "0  Non_hope_speech                               thats likei dont like statue  \n",
              "1  Non_hope_speech   x counting money given promoting hysterical green agenda  \n",
              "2  Non_hope_speech                   hernandez never said intolerant hateful   \n",
              "3  Non_hope_speech                                wow opinion dont like color  \n",
              "4      Hope_speech              wowthat inspiring incredible speech saved day  \n",
              "5  Non_hope_speech  yea sorry know asian ethnicity race im trying generalize   \n",
              "6  Non_hope_speech                                 blm nooooooonnasian racism  \n",
              "7  Non_hope_speech        making think trying make black life matter confused  \n",
              "8  Non_hope_speech               dont agree homosexualitynfirst homosexuality  \n",
              "9  Non_hope_speech                                           long sorry fight  "
            ],
            "text/html": [
              "\n",
              "  <div id=\"df-9fdbdb19-768d-4f1a-8f45-e22b5f361c4f\">\n",
              "    <div class=\"colab-df-container\">\n",
              "      <div>\n",
              "<style scoped>\n",
              "    .dataframe tbody tr th:only-of-type {\n",
              "        vertical-align: middle;\n",
              "    }\n",
              "\n",
              "    .dataframe tbody tr th {\n",
              "        vertical-align: top;\n",
              "    }\n",
              "\n",
              "    .dataframe thead th {\n",
              "        text-align: right;\n",
              "    }\n",
              "</style>\n",
              "<table border=\"1\" class=\"dataframe\">\n",
              "  <thead>\n",
              "    <tr style=\"text-align: right;\">\n",
              "      <th></th>\n",
              "      <th>Text</th>\n",
              "      <th>label</th>\n",
              "      <th>clean</th>\n",
              "    </tr>\n",
              "  </thead>\n",
              "  <tbody>\n",
              "    <tr>\n",
              "      <th>0</th>\n",
              "      <td>Thats it.... like....I dont like that statue</td>\n",
              "      <td>Non_hope_speech</td>\n",
              "      <td>thats likei dont like statue</td>\n",
              "    </tr>\n",
              "    <tr>\n",
              "      <th>1</th>\n",
              "      <td>@Generation X Counting money that she been given for promoting hysterical green agenda.</td>\n",
              "      <td>Non_hope_speech</td>\n",
              "      <td>x counting money given promoting hysterical green agenda</td>\n",
              "    </tr>\n",
              "    <tr>\n",
              "      <th>2</th>\n",
              "      <td>@Paola Hernandez i never said to be intolerant and hateful........ -_-</td>\n",
              "      <td>Non_hope_speech</td>\n",
              "      <td>hernandez never said intolerant hateful</td>\n",
              "    </tr>\n",
              "    <tr>\n",
              "      <th>3</th>\n",
              "      <td>@Firstlast300 Wow An opinion is that I don't like a color</td>\n",
              "      <td>Non_hope_speech</td>\n",
              "      <td>wow opinion dont like color</td>\n",
              "    </tr>\n",
              "    <tr>\n",
              "      <th>4</th>\n",
              "      <td>WOW!!!!!!!That was so so inspiring and incredible!!! THis speech has just saved my day</td>\n",
              "      <td>Hope_speech</td>\n",
              "      <td>wowthat inspiring incredible speech saved day</td>\n",
              "    </tr>\n",
              "    <tr>\n",
              "      <th>5</th>\n",
              "      <td>@FALC0n  Yea sorry I know Asian is an ethnicity not a race... I'm just trying to generalize🤦‍</td>\n",
              "      <td>Non_hope_speech</td>\n",
              "      <td>yea sorry know asian ethnicity race im trying generalize</td>\n",
              "    </tr>\n",
              "    <tr>\n",
              "      <th>6</th>\n",
              "      <td>Blm nooooooonnAsian racism</td>\n",
              "      <td>Non_hope_speech</td>\n",
              "      <td>blm nooooooonnasian racism</td>\n",
              "    </tr>\n",
              "    <tr>\n",
              "      <th>7</th>\n",
              "      <td>What is making you think they are trying to make black lives matter more. I’m confused</td>\n",
              "      <td>Non_hope_speech</td>\n",
              "      <td>making think trying make black life matter confused</td>\n",
              "    </tr>\n",
              "    <tr>\n",
              "      <th>8</th>\n",
              "      <td>I dont agree with homosexualitynFirst of all you are homosexuality</td>\n",
              "      <td>Non_hope_speech</td>\n",
              "      <td>dont agree homosexualitynfirst homosexuality</td>\n",
              "    </tr>\n",
              "    <tr>\n",
              "      <th>9</th>\n",
              "      <td>@corinthia Long sorry not to fight about this</td>\n",
              "      <td>Non_hope_speech</td>\n",
              "      <td>long sorry fight</td>\n",
              "    </tr>\n",
              "  </tbody>\n",
              "</table>\n",
              "</div>\n",
              "      <button class=\"colab-df-convert\" onclick=\"convertToInteractive('df-9fdbdb19-768d-4f1a-8f45-e22b5f361c4f')\"\n",
              "              title=\"Convert this dataframe to an interactive table.\"\n",
              "              style=\"display:none;\">\n",
              "        \n",
              "  <svg xmlns=\"http://www.w3.org/2000/svg\" height=\"24px\"viewBox=\"0 0 24 24\"\n",
              "       width=\"24px\">\n",
              "    <path d=\"M0 0h24v24H0V0z\" fill=\"none\"/>\n",
              "    <path d=\"M18.56 5.44l.94 2.06.94-2.06 2.06-.94-2.06-.94-.94-2.06-.94 2.06-2.06.94zm-11 1L8.5 8.5l.94-2.06 2.06-.94-2.06-.94L8.5 2.5l-.94 2.06-2.06.94zm10 10l.94 2.06.94-2.06 2.06-.94-2.06-.94-.94-2.06-.94 2.06-2.06.94z\"/><path d=\"M17.41 7.96l-1.37-1.37c-.4-.4-.92-.59-1.43-.59-.52 0-1.04.2-1.43.59L10.3 9.45l-7.72 7.72c-.78.78-.78 2.05 0 2.83L4 21.41c.39.39.9.59 1.41.59.51 0 1.02-.2 1.41-.59l7.78-7.78 2.81-2.81c.8-.78.8-2.07 0-2.86zM5.41 20L4 18.59l7.72-7.72 1.47 1.35L5.41 20z\"/>\n",
              "  </svg>\n",
              "      </button>\n",
              "      \n",
              "  <style>\n",
              "    .colab-df-container {\n",
              "      display:flex;\n",
              "      flex-wrap:wrap;\n",
              "      gap: 12px;\n",
              "    }\n",
              "\n",
              "    .colab-df-convert {\n",
              "      background-color: #E8F0FE;\n",
              "      border: none;\n",
              "      border-radius: 50%;\n",
              "      cursor: pointer;\n",
              "      display: none;\n",
              "      fill: #1967D2;\n",
              "      height: 32px;\n",
              "      padding: 0 0 0 0;\n",
              "      width: 32px;\n",
              "    }\n",
              "\n",
              "    .colab-df-convert:hover {\n",
              "      background-color: #E2EBFA;\n",
              "      box-shadow: 0px 1px 2px rgba(60, 64, 67, 0.3), 0px 1px 3px 1px rgba(60, 64, 67, 0.15);\n",
              "      fill: #174EA6;\n",
              "    }\n",
              "\n",
              "    [theme=dark] .colab-df-convert {\n",
              "      background-color: #3B4455;\n",
              "      fill: #D2E3FC;\n",
              "    }\n",
              "\n",
              "    [theme=dark] .colab-df-convert:hover {\n",
              "      background-color: #434B5C;\n",
              "      box-shadow: 0px 1px 3px 1px rgba(0, 0, 0, 0.15);\n",
              "      filter: drop-shadow(0px 1px 2px rgba(0, 0, 0, 0.3));\n",
              "      fill: #FFFFFF;\n",
              "    }\n",
              "  </style>\n",
              "\n",
              "      <script>\n",
              "        const buttonEl =\n",
              "          document.querySelector('#df-9fdbdb19-768d-4f1a-8f45-e22b5f361c4f button.colab-df-convert');\n",
              "        buttonEl.style.display =\n",
              "          google.colab.kernel.accessAllowed ? 'block' : 'none';\n",
              "\n",
              "        async function convertToInteractive(key) {\n",
              "          const element = document.querySelector('#df-9fdbdb19-768d-4f1a-8f45-e22b5f361c4f');\n",
              "          const dataTable =\n",
              "            await google.colab.kernel.invokeFunction('convertToInteractive',\n",
              "                                                     [key], {});\n",
              "          if (!dataTable) return;\n",
              "\n",
              "          const docLinkHtml = 'Like what you see? Visit the ' +\n",
              "            '<a target=\"_blank\" href=https://colab.research.google.com/notebooks/data_table.ipynb>data table notebook</a>'\n",
              "            + ' to learn more about interactive tables.';\n",
              "          element.innerHTML = '';\n",
              "          dataTable['output_type'] = 'display_data';\n",
              "          await google.colab.output.renderOutput(dataTable, element);\n",
              "          const docLink = document.createElement('div');\n",
              "          docLink.innerHTML = docLinkHtml;\n",
              "          element.appendChild(docLink);\n",
              "        }\n",
              "      </script>\n",
              "    </div>\n",
              "  </div>\n",
              "  "
            ]
          },
          "metadata": {},
          "execution_count": 9
        }
      ]
    },
    {
      "cell_type": "code",
      "source": [
        "len(data_train['clean'])"
      ],
      "metadata": {
        "colab": {
          "base_uri": "https://localhost:8080/"
        },
        "id": "T2wUsPeUFTx7",
        "outputId": "f98db060-4ca2-4f4b-d184-4ee3bcd02378"
      },
      "execution_count": 10,
      "outputs": [
        {
          "output_type": "execute_result",
          "data": {
            "text/plain": [
              "22740"
            ]
          },
          "metadata": {},
          "execution_count": 10
        }
      ]
    },
    {
      "cell_type": "code",
      "source": [
        "from sklearn.utils import resample\n",
        "#create two different dataframe of majority and minority class \n",
        "df_majority = data_train[(data_train['label']=='Non_hope_speech')] \n",
        "df_minority = data_train[(data_train['label']=='Hope_speech')] \n",
        "# upsample minority class\n",
        "df_minority_upsampled = resample(df_minority,replace=True, n_samples= 20778, random_state=None)  # reproducible results\n",
        "# Combine majority class with upsampled minority class\n",
        "df_upsampled = pd.concat([df_minority_upsampled, df_majority])"
      ],
      "metadata": {
        "id": "-WmC90l1irvp"
      },
      "execution_count": 11,
      "outputs": []
    },
    {
      "cell_type": "code",
      "source": [
        "df_upsampled['label'].value_counts()"
      ],
      "metadata": {
        "colab": {
          "base_uri": "https://localhost:8080/"
        },
        "id": "ldGFZeSnGX0x",
        "outputId": "ea12ce7c-79b2-4286-e7d0-4bbcdc077698"
      },
      "execution_count": 12,
      "outputs": [
        {
          "output_type": "execute_result",
          "data": {
            "text/plain": [
              "Hope_speech        20778\n",
              "Non_hope_speech    20778\n",
              "Name: label, dtype: int64"
            ]
          },
          "metadata": {},
          "execution_count": 12
        }
      ]
    },
    {
      "cell_type": "code",
      "source": [
        "#y_train=df_upsampled['label']\n",
        "y_train=df_upsampled['label']\n",
        "#y_test=data_dev['label']\n",
        "\n",
        "\n",
        "y = pd.get_dummies(df_upsampled['label']).values\n",
        "\n",
        "\n",
        "y_train1=pd.get_dummies(y_train).values\n",
        "#y_test1=pd.get_dummies(y_test).values\n",
        "diz_label = {}\n",
        "for i,label in enumerate(df_upsampled.label.factorize()[1]):\n",
        "    diz_label[i] = label\n",
        "    \n",
        "diz_label"
      ],
      "metadata": {
        "colab": {
          "base_uri": "https://localhost:8080/"
        },
        "id": "cEro4tseNX5O",
        "outputId": "5a295897-7861-44c0-e388-104fe813ba64"
      },
      "execution_count": 13,
      "outputs": [
        {
          "output_type": "execute_result",
          "data": {
            "text/plain": [
              "{0: 'Hope_speech', 1: 'Non_hope_speech'}"
            ]
          },
          "metadata": {},
          "execution_count": 13
        }
      ]
    },
    {
      "cell_type": "code",
      "source": [
        "df_upsampled.head()"
      ],
      "metadata": {
        "colab": {
          "base_uri": "https://localhost:8080/",
          "height": 354
        },
        "id": "A3iP018jkm37",
        "outputId": "5c3877f3-347a-432f-a5a7-ef11cc32f882"
      },
      "execution_count": 14,
      "outputs": [
        {
          "output_type": "execute_result",
          "data": {
            "text/plain": [
              "                                                                                                                                                                                                                              Text  \\\n",
              "4436   Some of the black lives matter people are doing things correctly to protect their people but there are some that are destructive against innocent people and bad people too.When someone says black lives matter it is r...   \n",
              "5727   even if shes talkin for women i as a male was really motivated by her. I always wanted to be an engineer but i lack of confidence that maybe im not smart enough(or not born smart enough) but its more like how bad you...   \n",
              "22681                                                                                 Racism is everywhere.Though Many of the BLM people are doing some retarded shit. You wouldnt understand how they felt unless you were black.   \n",
              "3642                                                                                                                                      She had an engineering job. If you're so interested in her accomplishments look them up.   \n",
              "21822                                                                                                                                                                                                           All life's matters   \n",
              "\n",
              "             label  \\\n",
              "4436   Hope_speech   \n",
              "5727   Hope_speech   \n",
              "22681  Hope_speech   \n",
              "3642   Hope_speech   \n",
              "21822  Hope_speech   \n",
              "\n",
              "                                                                                                                                                                                                                             clean  \n",
              "4436   black life matter people thing correctly protect people destructive innocent people bad people toowhen someone say black life matter rude say life matter purpose movement black protection people rude bring life erase...  \n",
              "5727                                                                                   even shes talkin woman male really motivated always wanted engineer lack confidence maybe im smart enoughor born smart enough like bad want  \n",
              "22681                                                                                                                                   racism everywherethough many blm people retarded shit wouldnt understand felt unless black  \n",
              "3642                                                                                                                                                                          engineering job youre interested accomplishment look  \n",
              "21822                                                                                                                                                                                                                  life matter  "
            ],
            "text/html": [
              "\n",
              "  <div id=\"df-60a1b20f-0083-4701-9205-b06b01c91fb3\">\n",
              "    <div class=\"colab-df-container\">\n",
              "      <div>\n",
              "<style scoped>\n",
              "    .dataframe tbody tr th:only-of-type {\n",
              "        vertical-align: middle;\n",
              "    }\n",
              "\n",
              "    .dataframe tbody tr th {\n",
              "        vertical-align: top;\n",
              "    }\n",
              "\n",
              "    .dataframe thead th {\n",
              "        text-align: right;\n",
              "    }\n",
              "</style>\n",
              "<table border=\"1\" class=\"dataframe\">\n",
              "  <thead>\n",
              "    <tr style=\"text-align: right;\">\n",
              "      <th></th>\n",
              "      <th>Text</th>\n",
              "      <th>label</th>\n",
              "      <th>clean</th>\n",
              "    </tr>\n",
              "  </thead>\n",
              "  <tbody>\n",
              "    <tr>\n",
              "      <th>4436</th>\n",
              "      <td>Some of the black lives matter people are doing things correctly to protect their people but there are some that are destructive against innocent people and bad people too.When someone says black lives matter it is r...</td>\n",
              "      <td>Hope_speech</td>\n",
              "      <td>black life matter people thing correctly protect people destructive innocent people bad people toowhen someone say black life matter rude say life matter purpose movement black protection people rude bring life erase...</td>\n",
              "    </tr>\n",
              "    <tr>\n",
              "      <th>5727</th>\n",
              "      <td>even if shes talkin for women i as a male was really motivated by her. I always wanted to be an engineer but i lack of confidence that maybe im not smart enough(or not born smart enough) but its more like how bad you...</td>\n",
              "      <td>Hope_speech</td>\n",
              "      <td>even shes talkin woman male really motivated always wanted engineer lack confidence maybe im smart enoughor born smart enough like bad want</td>\n",
              "    </tr>\n",
              "    <tr>\n",
              "      <th>22681</th>\n",
              "      <td>Racism is everywhere.Though Many of the BLM people are doing some retarded shit. You wouldnt understand how they felt unless you were black.</td>\n",
              "      <td>Hope_speech</td>\n",
              "      <td>racism everywherethough many blm people retarded shit wouldnt understand felt unless black</td>\n",
              "    </tr>\n",
              "    <tr>\n",
              "      <th>3642</th>\n",
              "      <td>She had an engineering job. If you're so interested in her accomplishments look them up.</td>\n",
              "      <td>Hope_speech</td>\n",
              "      <td>engineering job youre interested accomplishment look</td>\n",
              "    </tr>\n",
              "    <tr>\n",
              "      <th>21822</th>\n",
              "      <td>All life's matters</td>\n",
              "      <td>Hope_speech</td>\n",
              "      <td>life matter</td>\n",
              "    </tr>\n",
              "  </tbody>\n",
              "</table>\n",
              "</div>\n",
              "      <button class=\"colab-df-convert\" onclick=\"convertToInteractive('df-60a1b20f-0083-4701-9205-b06b01c91fb3')\"\n",
              "              title=\"Convert this dataframe to an interactive table.\"\n",
              "              style=\"display:none;\">\n",
              "        \n",
              "  <svg xmlns=\"http://www.w3.org/2000/svg\" height=\"24px\"viewBox=\"0 0 24 24\"\n",
              "       width=\"24px\">\n",
              "    <path d=\"M0 0h24v24H0V0z\" fill=\"none\"/>\n",
              "    <path d=\"M18.56 5.44l.94 2.06.94-2.06 2.06-.94-2.06-.94-.94-2.06-.94 2.06-2.06.94zm-11 1L8.5 8.5l.94-2.06 2.06-.94-2.06-.94L8.5 2.5l-.94 2.06-2.06.94zm10 10l.94 2.06.94-2.06 2.06-.94-2.06-.94-.94-2.06-.94 2.06-2.06.94z\"/><path d=\"M17.41 7.96l-1.37-1.37c-.4-.4-.92-.59-1.43-.59-.52 0-1.04.2-1.43.59L10.3 9.45l-7.72 7.72c-.78.78-.78 2.05 0 2.83L4 21.41c.39.39.9.59 1.41.59.51 0 1.02-.2 1.41-.59l7.78-7.78 2.81-2.81c.8-.78.8-2.07 0-2.86zM5.41 20L4 18.59l7.72-7.72 1.47 1.35L5.41 20z\"/>\n",
              "  </svg>\n",
              "      </button>\n",
              "      \n",
              "  <style>\n",
              "    .colab-df-container {\n",
              "      display:flex;\n",
              "      flex-wrap:wrap;\n",
              "      gap: 12px;\n",
              "    }\n",
              "\n",
              "    .colab-df-convert {\n",
              "      background-color: #E8F0FE;\n",
              "      border: none;\n",
              "      border-radius: 50%;\n",
              "      cursor: pointer;\n",
              "      display: none;\n",
              "      fill: #1967D2;\n",
              "      height: 32px;\n",
              "      padding: 0 0 0 0;\n",
              "      width: 32px;\n",
              "    }\n",
              "\n",
              "    .colab-df-convert:hover {\n",
              "      background-color: #E2EBFA;\n",
              "      box-shadow: 0px 1px 2px rgba(60, 64, 67, 0.3), 0px 1px 3px 1px rgba(60, 64, 67, 0.15);\n",
              "      fill: #174EA6;\n",
              "    }\n",
              "\n",
              "    [theme=dark] .colab-df-convert {\n",
              "      background-color: #3B4455;\n",
              "      fill: #D2E3FC;\n",
              "    }\n",
              "\n",
              "    [theme=dark] .colab-df-convert:hover {\n",
              "      background-color: #434B5C;\n",
              "      box-shadow: 0px 1px 3px 1px rgba(0, 0, 0, 0.15);\n",
              "      filter: drop-shadow(0px 1px 2px rgba(0, 0, 0, 0.3));\n",
              "      fill: #FFFFFF;\n",
              "    }\n",
              "  </style>\n",
              "\n",
              "      <script>\n",
              "        const buttonEl =\n",
              "          document.querySelector('#df-60a1b20f-0083-4701-9205-b06b01c91fb3 button.colab-df-convert');\n",
              "        buttonEl.style.display =\n",
              "          google.colab.kernel.accessAllowed ? 'block' : 'none';\n",
              "\n",
              "        async function convertToInteractive(key) {\n",
              "          const element = document.querySelector('#df-60a1b20f-0083-4701-9205-b06b01c91fb3');\n",
              "          const dataTable =\n",
              "            await google.colab.kernel.invokeFunction('convertToInteractive',\n",
              "                                                     [key], {});\n",
              "          if (!dataTable) return;\n",
              "\n",
              "          const docLinkHtml = 'Like what you see? Visit the ' +\n",
              "            '<a target=\"_blank\" href=https://colab.research.google.com/notebooks/data_table.ipynb>data table notebook</a>'\n",
              "            + ' to learn more about interactive tables.';\n",
              "          element.innerHTML = '';\n",
              "          dataTable['output_type'] = 'display_data';\n",
              "          await google.colab.output.renderOutput(dataTable, element);\n",
              "          const docLink = document.createElement('div');\n",
              "          docLink.innerHTML = docLinkHtml;\n",
              "          element.appendChild(docLink);\n",
              "        }\n",
              "      </script>\n",
              "    </div>\n",
              "  </div>\n",
              "  "
            ]
          },
          "metadata": {},
          "execution_count": 14
        }
      ]
    },
    {
      "cell_type": "code",
      "source": [
        "X_train=df_upsampled['clean'].tolist()\n",
        "X_test =data_dev['clean'].tolist()\n",
        "\n",
        "\n"
      ],
      "metadata": {
        "id": "DCHmCNQ3NpIc"
      },
      "execution_count": 15,
      "outputs": []
    },
    {
      "cell_type": "code",
      "source": [
        "len(X_train)"
      ],
      "metadata": {
        "id": "v3B9oeHGSFiQ",
        "colab": {
          "base_uri": "https://localhost:8080/"
        },
        "outputId": "dd8cf6a4-ec0d-4dd9-8e1a-005abf61756a"
      },
      "execution_count": null,
      "outputs": [
        {
          "output_type": "execute_result",
          "data": {
            "text/plain": [
              "41556"
            ]
          },
          "metadata": {},
          "execution_count": 17
        }
      ]
    },
    {
      "cell_type": "code",
      "source": [
        "vocabulary_size = 20000\n",
        "tokenizer = Tokenizer(num_words= vocabulary_size)\n",
        "tokenizer.fit_on_texts(X_train)\n",
        "sequences = tokenizer.texts_to_sequences(X_train)\n",
        "X_train1 = pad_sequences(sequences, maxlen=50)\n",
        "\n",
        "sequences = tokenizer.texts_to_sequences(X_test)\n",
        "X_test1 = pad_sequences(sequences, maxlen=50)\n",
        "\n"
      ],
      "metadata": {
        "id": "GySe7mT1NvAl"
      },
      "execution_count": null,
      "outputs": []
    },
    {
      "cell_type": "code",
      "source": [
        "type(X_test1)"
      ],
      "metadata": {
        "colab": {
          "base_uri": "https://localhost:8080/"
        },
        "id": "wfnkXcnu94rk",
        "outputId": "fcbeae9a-aefe-4d8f-8e0b-24a35cd97e9d"
      },
      "execution_count": null,
      "outputs": [
        {
          "output_type": "execute_result",
          "data": {
            "text/plain": [
              "numpy.ndarray"
            ]
          },
          "metadata": {},
          "execution_count": 18
        }
      ]
    },
    {
      "cell_type": "code",
      "source": [
        "model = Sequential()\n",
        "model.add(Embedding(20000, 1000, input_length=50))\n",
        "model.add(Dropout(0.2))\n",
        "model.add(Conv1D(64, 2, activation='relu'))\n",
        "model.add(MaxPooling1D(pool_size=2))\n",
        "model.add(LSTM(100))\n",
        "model.add(Dense(2, activation='softmax'))\n",
        "print(model.summary())"
      ],
      "metadata": {
        "id": "sVoDwRLHNy2l",
        "colab": {
          "base_uri": "https://localhost:8080/"
        },
        "outputId": "c19bdc91-5355-4d10-c659-20e17dc91826"
      },
      "execution_count": null,
      "outputs": [
        {
          "output_type": "stream",
          "name": "stdout",
          "text": [
            "Model: \"sequential_2\"\n",
            "_________________________________________________________________\n",
            " Layer (type)                Output Shape              Param #   \n",
            "=================================================================\n",
            " embedding_2 (Embedding)     (None, 50, 1000)          20000000  \n",
            "                                                                 \n",
            " dropout_2 (Dropout)         (None, 50, 1000)          0         \n",
            "                                                                 \n",
            " conv1d_2 (Conv1D)           (None, 49, 64)            128064    \n",
            "                                                                 \n",
            " max_pooling1d_2 (MaxPooling  (None, 24, 64)           0         \n",
            " 1D)                                                             \n",
            "                                                                 \n",
            " lstm_2 (LSTM)               (None, 100)               66000     \n",
            "                                                                 \n",
            " dense_2 (Dense)             (None, 2)                 202       \n",
            "                                                                 \n",
            "=================================================================\n",
            "Total params: 20,194,266\n",
            "Trainable params: 20,194,266\n",
            "Non-trainable params: 0\n",
            "_________________________________________________________________\n",
            "None\n"
          ]
        }
      ]
    },
    {
      "cell_type": "markdown",
      "source": [
        "The implementwd 1D CNN-LSTM model is composed of an input layer equal to 50, 64  convolutional layers, two  pooling layer and relu activation function used for conv1d layer, two LSTM layers, 100 fully connected (FC) layers, and a soft-max output layer.\n"
      ],
      "metadata": {
        "id": "nLEqjJAZ6Oe_"
      }
    },
    {
      "cell_type": "code",
      "source": [
        "from sklearn.utils import class_weight"
      ],
      "metadata": {
        "id": "7DWCzhUbN4Yt"
      },
      "execution_count": null,
      "outputs": []
    },
    {
      "cell_type": "code",
      "source": [
        "model.compile(loss='categorical_crossentropy', optimizer='adam', metrics=['accuracy'])"
      ],
      "metadata": {
        "id": "DUv6xaUsN8-V"
      },
      "execution_count": null,
      "outputs": []
    },
    {
      "cell_type": "code",
      "source": [
        "\n",
        "model.fit(X_train1, y_train1,\n",
        "                    batch_size=254,\n",
        "                    epochs=10,\n",
        "                    verbose=1,\n",
        "                    validation_split=0.1,)"
      ],
      "metadata": {
        "colab": {
          "base_uri": "https://localhost:8080/"
        },
        "id": "LdezBKoBOGss",
        "outputId": "ce8016f0-31bf-4a5e-97c8-9a7543caf4f0"
      },
      "execution_count": null,
      "outputs": [
        {
          "output_type": "stream",
          "name": "stdout",
          "text": [
            "Epoch 1/10\n",
            "148/148 [==============================] - 27s 77ms/step - loss: 0.3616 - accuracy: 0.8362 - val_loss: 0.2128 - val_accuracy: 0.9148\n",
            "Epoch 2/10\n",
            "148/148 [==============================] - 9s 61ms/step - loss: 0.1357 - accuracy: 0.9529 - val_loss: 0.2309 - val_accuracy: 0.9237\n",
            "Epoch 3/10\n",
            "148/148 [==============================] - 8s 53ms/step - loss: 0.0818 - accuracy: 0.9729 - val_loss: 0.1911 - val_accuracy: 0.9398\n",
            "Epoch 4/10\n",
            "148/148 [==============================] - 7s 51ms/step - loss: 0.0580 - accuracy: 0.9815 - val_loss: 0.2650 - val_accuracy: 0.9264\n",
            "Epoch 5/10\n",
            "148/148 [==============================] - 8s 51ms/step - loss: 0.0474 - accuracy: 0.9838 - val_loss: 0.2333 - val_accuracy: 0.9343\n",
            "Epoch 6/10\n",
            "148/148 [==============================] - 8s 51ms/step - loss: 0.0430 - accuracy: 0.9857 - val_loss: 0.2230 - val_accuracy: 0.9451\n",
            "Epoch 7/10\n",
            "148/148 [==============================] - 8s 51ms/step - loss: 0.0405 - accuracy: 0.9861 - val_loss: 0.2398 - val_accuracy: 0.9389\n",
            "Epoch 8/10\n",
            "148/148 [==============================] - 7s 50ms/step - loss: 0.0387 - accuracy: 0.9862 - val_loss: 0.3084 - val_accuracy: 0.9218\n",
            "Epoch 9/10\n",
            "148/148 [==============================] - 7s 51ms/step - loss: 0.0369 - accuracy: 0.9867 - val_loss: 0.2770 - val_accuracy: 0.9312\n",
            "Epoch 10/10\n",
            "148/148 [==============================] - 7s 51ms/step - loss: 0.0355 - accuracy: 0.9868 - val_loss: 0.2958 - val_accuracy: 0.9370\n"
          ]
        },
        {
          "output_type": "execute_result",
          "data": {
            "text/plain": [
              "<keras.callbacks.History at 0x7f9282e17550>"
            ]
          },
          "metadata": {},
          "execution_count": 22
        }
      ]
    },
    {
      "cell_type": "code",
      "source": [
        "preds = model.predict(X_test1)"
      ],
      "metadata": {
        "id": "5eabgdEpOimk"
      },
      "execution_count": null,
      "outputs": []
    },
    {
      "cell_type": "code",
      "source": [
        "pred=np.argmax(preds,axis=1)"
      ],
      "metadata": {
        "id": "B9BWBn-mPF7a"
      },
      "execution_count": null,
      "outputs": []
    },
    {
      "cell_type": "code",
      "source": [
        "from sklearn.preprocessing import LabelEncoder\n",
        "from sklearn.preprocessing import LabelEncoder\n",
        "le = LabelEncoder()\n",
        "\n",
        "label = le.fit(df_upsampled[\"label\"])\n",
        "label_t=le.fit_transform(df_upsampled[\"label\"])\n",
        "prediction2=le.inverse_transform(pred)"
      ],
      "metadata": {
        "id": "alAVV_HI8RE5"
      },
      "execution_count": null,
      "outputs": []
    },
    {
      "cell_type": "code",
      "source": [
        "score = model.evaluate(X_test1, y_test1,\n",
        "                       batch_size=1000, verbose=1)\n",
        "print('Test accuracy:', score[1])\n",
        "\n"
      ],
      "metadata": {
        "colab": {
          "base_uri": "https://localhost:8080/"
        },
        "id": "etjTxvIoOLTE",
        "outputId": "c1862a6e-c879-423d-ea84-46ee7f72329e"
      },
      "execution_count": null,
      "outputs": [
        {
          "output_type": "stream",
          "name": "stdout",
          "text": [
            "3/3 [==============================] - 1s 397ms/step - loss: 1.1033 - accuracy: 0.8824\n",
            "Test accuracy: 0.8824357390403748\n"
          ]
        }
      ]
    },
    {
      "cell_type": "code",
      "source": [
        "\n",
        "#sampled data\n",
        "print(classification_report(np.argmax(y_test1,axis=1),np.argmax(preds,axis=1)))"
      ],
      "metadata": {
        "colab": {
          "base_uri": "https://localhost:8080/"
        },
        "id": "Zz1tIenpoQHt",
        "outputId": "9c7aa4e5-2be6-45d6-e578-5ac4285c9ef9"
      },
      "execution_count": null,
      "outputs": [
        {
          "output_type": "stream",
          "name": "stdout",
          "text": [
            "              precision    recall  f1-score   support\n",
            "\n",
            "           0       0.34      0.24      0.28       272\n",
            "           1       0.92      0.95      0.94      2569\n",
            "\n",
            "    accuracy                           0.88      2841\n",
            "   macro avg       0.63      0.60      0.61      2841\n",
            "weighted avg       0.87      0.88      0.87      2841\n",
            "\n"
          ]
        }
      ]
    },
    {
      "cell_type": "code",
      "source": [
        "prediction2"
      ],
      "metadata": {
        "id": "3RM-W1zS8YXc"
      },
      "execution_count": null,
      "outputs": []
    },
    {
      "cell_type": "code",
      "source": [
        "y_pred_df = pd.DataFrame(data=prediction2, columns=['prediction2'])\n",
        "Kannada = pd.DataFrame()\n",
        "Kannada['Text'] = data_dev['Text']\n",
        "Kannada['label'] = prediction2\n",
        "Kannada.to_csv('MUCIC_English.tsv',sep='\\t',index = None)\n",
        "Kannada.head()"
      ],
      "metadata": {
        "colab": {
          "base_uri": "https://localhost:8080/",
          "height": 206
        },
        "id": "Tx99PGqHXn_i",
        "outputId": "21c874e3-01e2-42a5-f26e-d3e88899fd6c"
      },
      "execution_count": null,
      "outputs": [
        {
          "output_type": "execute_result",
          "data": {
            "text/html": [
              "\n",
              "  <div id=\"df-44129393-8e23-4d20-9c0f-5149c1c623f5\">\n",
              "    <div class=\"colab-df-container\">\n",
              "      <div>\n",
              "<style scoped>\n",
              "    .dataframe tbody tr th:only-of-type {\n",
              "        vertical-align: middle;\n",
              "    }\n",
              "\n",
              "    .dataframe tbody tr th {\n",
              "        vertical-align: top;\n",
              "    }\n",
              "\n",
              "    .dataframe thead th {\n",
              "        text-align: right;\n",
              "    }\n",
              "</style>\n",
              "<table border=\"1\" class=\"dataframe\">\n",
              "  <thead>\n",
              "    <tr style=\"text-align: right;\">\n",
              "      <th></th>\n",
              "      <th>Text</th>\n",
              "      <th>label</th>\n",
              "    </tr>\n",
              "  </thead>\n",
              "  <tbody>\n",
              "    <tr>\n",
              "      <th>0</th>\n",
              "      <td>These Abandon Hope videos only cement my pessimism towards humanity. Ugh</td>\n",
              "      <td>Non_hope_speech</td>\n",
              "    </tr>\n",
              "    <tr>\n",
              "      <th>1</th>\n",
              "      <td>Wow your videos are long. They have good points</td>\n",
              "      <td>Non_hope_speech</td>\n",
              "    </tr>\n",
              "    <tr>\n",
              "      <th>2</th>\n",
              "      <td>I know this is none of my business but 75k+ income?! Is your household only comprised of you? If so</td>\n",
              "      <td>Non_hope_speech</td>\n",
              "    </tr>\n",
              "    <tr>\n",
              "      <th>3</th>\n",
              "      <td>Hope? Is that a new Pokémon?</td>\n",
              "      <td>Non_hope_speech</td>\n",
              "    </tr>\n",
              "    <tr>\n",
              "      <th>4</th>\n",
              "      <td>Almost every time someone depicts a davidian star they make it blue</td>\n",
              "      <td>Non_hope_speech</td>\n",
              "    </tr>\n",
              "  </tbody>\n",
              "</table>\n",
              "</div>\n",
              "      <button class=\"colab-df-convert\" onclick=\"convertToInteractive('df-44129393-8e23-4d20-9c0f-5149c1c623f5')\"\n",
              "              title=\"Convert this dataframe to an interactive table.\"\n",
              "              style=\"display:none;\">\n",
              "        \n",
              "  <svg xmlns=\"http://www.w3.org/2000/svg\" height=\"24px\"viewBox=\"0 0 24 24\"\n",
              "       width=\"24px\">\n",
              "    <path d=\"M0 0h24v24H0V0z\" fill=\"none\"/>\n",
              "    <path d=\"M18.56 5.44l.94 2.06.94-2.06 2.06-.94-2.06-.94-.94-2.06-.94 2.06-2.06.94zm-11 1L8.5 8.5l.94-2.06 2.06-.94-2.06-.94L8.5 2.5l-.94 2.06-2.06.94zm10 10l.94 2.06.94-2.06 2.06-.94-2.06-.94-.94-2.06-.94 2.06-2.06.94z\"/><path d=\"M17.41 7.96l-1.37-1.37c-.4-.4-.92-.59-1.43-.59-.52 0-1.04.2-1.43.59L10.3 9.45l-7.72 7.72c-.78.78-.78 2.05 0 2.83L4 21.41c.39.39.9.59 1.41.59.51 0 1.02-.2 1.41-.59l7.78-7.78 2.81-2.81c.8-.78.8-2.07 0-2.86zM5.41 20L4 18.59l7.72-7.72 1.47 1.35L5.41 20z\"/>\n",
              "  </svg>\n",
              "      </button>\n",
              "      \n",
              "  <style>\n",
              "    .colab-df-container {\n",
              "      display:flex;\n",
              "      flex-wrap:wrap;\n",
              "      gap: 12px;\n",
              "    }\n",
              "\n",
              "    .colab-df-convert {\n",
              "      background-color: #E8F0FE;\n",
              "      border: none;\n",
              "      border-radius: 50%;\n",
              "      cursor: pointer;\n",
              "      display: none;\n",
              "      fill: #1967D2;\n",
              "      height: 32px;\n",
              "      padding: 0 0 0 0;\n",
              "      width: 32px;\n",
              "    }\n",
              "\n",
              "    .colab-df-convert:hover {\n",
              "      background-color: #E2EBFA;\n",
              "      box-shadow: 0px 1px 2px rgba(60, 64, 67, 0.3), 0px 1px 3px 1px rgba(60, 64, 67, 0.15);\n",
              "      fill: #174EA6;\n",
              "    }\n",
              "\n",
              "    [theme=dark] .colab-df-convert {\n",
              "      background-color: #3B4455;\n",
              "      fill: #D2E3FC;\n",
              "    }\n",
              "\n",
              "    [theme=dark] .colab-df-convert:hover {\n",
              "      background-color: #434B5C;\n",
              "      box-shadow: 0px 1px 3px 1px rgba(0, 0, 0, 0.15);\n",
              "      filter: drop-shadow(0px 1px 2px rgba(0, 0, 0, 0.3));\n",
              "      fill: #FFFFFF;\n",
              "    }\n",
              "  </style>\n",
              "\n",
              "      <script>\n",
              "        const buttonEl =\n",
              "          document.querySelector('#df-44129393-8e23-4d20-9c0f-5149c1c623f5 button.colab-df-convert');\n",
              "        buttonEl.style.display =\n",
              "          google.colab.kernel.accessAllowed ? 'block' : 'none';\n",
              "\n",
              "        async function convertToInteractive(key) {\n",
              "          const element = document.querySelector('#df-44129393-8e23-4d20-9c0f-5149c1c623f5');\n",
              "          const dataTable =\n",
              "            await google.colab.kernel.invokeFunction('convertToInteractive',\n",
              "                                                     [key], {});\n",
              "          if (!dataTable) return;\n",
              "\n",
              "          const docLinkHtml = 'Like what you see? Visit the ' +\n",
              "            '<a target=\"_blank\" href=https://colab.research.google.com/notebooks/data_table.ipynb>data table notebook</a>'\n",
              "            + ' to learn more about interactive tables.';\n",
              "          element.innerHTML = '';\n",
              "          dataTable['output_type'] = 'display_data';\n",
              "          await google.colab.output.renderOutput(dataTable, element);\n",
              "          const docLink = document.createElement('div');\n",
              "          docLink.innerHTML = docLinkHtml;\n",
              "          element.appendChild(docLink);\n",
              "        }\n",
              "      </script>\n",
              "    </div>\n",
              "  </div>\n",
              "  "
            ],
            "text/plain": [
              "                                                                                                  Text            label\n",
              "0                             These Abandon Hope videos only cement my pessimism towards humanity. Ugh  Non_hope_speech\n",
              "1                                                      Wow your videos are long. They have good points  Non_hope_speech\n",
              "2  I know this is none of my business but 75k+ income?! Is your household only comprised of you? If so  Non_hope_speech\n",
              "3                                                                         Hope? Is that a new Pokémon?  Non_hope_speech\n",
              "4                                  Almost every time someone depicts a davidian star they make it blue  Non_hope_speech"
            ]
          },
          "metadata": {},
          "execution_count": 27
        }
      ]
    },
    {
      "cell_type": "markdown",
      "source": [
        "Experiments down"
      ],
      "metadata": {
        "id": "nhfX2M-xFc1G"
      }
    },
    {
      "cell_type": "code",
      "source": [
        "len(data_dev)"
      ],
      "metadata": {
        "id": "pLW5Jk-rFdIK"
      },
      "execution_count": null,
      "outputs": []
    },
    {
      "cell_type": "code",
      "source": [
        ""
      ],
      "metadata": {
        "id": "1r_cI3GVFdMW"
      },
      "execution_count": null,
      "outputs": []
    },
    {
      "cell_type": "code",
      "source": [
        ""
      ],
      "metadata": {
        "id": "714qVNa0FdPe"
      },
      "execution_count": null,
      "outputs": []
    },
    {
      "cell_type": "code",
      "source": [
        ""
      ],
      "metadata": {
        "id": "Nvil-J12FdSY"
      },
      "execution_count": null,
      "outputs": []
    },
    {
      "cell_type": "code",
      "source": [
        ""
      ],
      "metadata": {
        "id": "Ucjvja2HFdVO"
      },
      "execution_count": null,
      "outputs": []
    },
    {
      "cell_type": "code",
      "source": [
        ""
      ],
      "metadata": {
        "id": "w2ww17UiFdZf"
      },
      "execution_count": null,
      "outputs": []
    },
    {
      "cell_type": "code",
      "source": [
        "print(classification_report(np.argmax(y_test1,axis=1),np.argmax(preds,axis=1)))"
      ],
      "metadata": {
        "colab": {
          "base_uri": "https://localhost:8080/"
        },
        "id": "qaWfxs1WPJWx",
        "outputId": "3a334e06-c72a-4f6a-bc6b-804016fd099c"
      },
      "execution_count": null,
      "outputs": [
        {
          "output_type": "stream",
          "name": "stdout",
          "text": [
            "              precision    recall  f1-score   support\n",
            "\n",
            "           0       0.00      0.00      0.00       272\n",
            "           1       0.90      1.00      0.95      2569\n",
            "\n",
            "    accuracy                           0.90      2841\n",
            "   macro avg       0.45      0.50      0.47      2841\n",
            "weighted avg       0.82      0.90      0.86      2841\n",
            "\n"
          ]
        },
        {
          "output_type": "stream",
          "name": "stderr",
          "text": [
            "/usr/local/lib/python3.7/dist-packages/sklearn/metrics/_classification.py:1318: UndefinedMetricWarning: Precision and F-score are ill-defined and being set to 0.0 in labels with no predicted samples. Use `zero_division` parameter to control this behavior.\n",
            "  _warn_prf(average, modifier, msg_start, len(result))\n",
            "/usr/local/lib/python3.7/dist-packages/sklearn/metrics/_classification.py:1318: UndefinedMetricWarning: Precision and F-score are ill-defined and being set to 0.0 in labels with no predicted samples. Use `zero_division` parameter to control this behavior.\n",
            "  _warn_prf(average, modifier, msg_start, len(result))\n",
            "/usr/local/lib/python3.7/dist-packages/sklearn/metrics/_classification.py:1318: UndefinedMetricWarning: Precision and F-score are ill-defined and being set to 0.0 in labels with no predicted samples. Use `zero_division` parameter to control this behavior.\n",
            "  _warn_prf(average, modifier, msg_start, len(result))\n"
          ]
        }
      ]
    },
    {
      "cell_type": "code",
      "source": [
        ""
      ],
      "metadata": {
        "id": "WRuqEbjyvJou"
      },
      "execution_count": null,
      "outputs": []
    }
  ]
}